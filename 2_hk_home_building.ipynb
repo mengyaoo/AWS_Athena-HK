{
 "cells": [
  {
   "cell_type": "code",
   "execution_count": null,
   "id": "518802db",
   "metadata": {
    "ExecuteTime": {
     "end_time": "2022-03-10T16:16:13.152493Z",
     "start_time": "2022-03-10T16:16:11.625621Z"
    }
   },
   "outputs": [],
   "source": [
    "import pandas as pd\n",
    "import numpy as np\n",
    "import boto3\n",
    "\n",
    "from shapely.geometry.polygon import Polygon\n",
    "from shapely.geometry import box\n",
    "from shapely.geometry import Polygon, LineString, Point\n",
    "import shapely.wkt\n",
    "import geopandas as gpd\n",
    "import json\n",
    "\n",
    "import folium\n",
    "import plotly.express as px\n",
    "import matplotlib.pyplot as plt\n",
    "\n",
    "\n",
    "import skmob\n",
    "from skmob.preprocessing import filtering\n",
    "from skmob.preprocessing import detection\n",
    "\n",
    "import datetime"
   ]
  },
  {
   "cell_type": "markdown",
   "id": "03b6f26f",
   "metadata": {},
   "source": [
    "# Find Home Location"
   ]
  },
  {
   "cell_type": "markdown",
   "id": "a09d3077",
   "metadata": {},
   "source": [
    "## find weekday home location"
   ]
  },
  {
   "cell_type": "code",
   "execution_count": null,
   "id": "8523567b",
   "metadata": {
    "ExecuteTime": {
     "end_time": "2022-03-07T09:48:39.398590Z",
     "start_time": "2022-03-07T09:48:39.393390Z"
    }
   },
   "outputs": [],
   "source": [
    "# v1\n",
    "\"\"\"\n",
    "create table m_hk_table2_weekday as\n",
    "with df as(\n",
    "select * from m_hk_filter_v2_b\n",
    "where (day_of_week(timestamp) between 1 and 5) and (length(cast(latitude as varchar)) > 5) and (length(cast(longitude as varchar)) > 6)\n",
    "),\n",
    "\n",
    "df1 as (\n",
    "SELECT *, ST_AsText(st_point(round(longitude,4),round(latitude,4))) location, date(distinct timestamp) date\n",
    "FROM (select * from df where (hour(timestamp) between 0 and 8) or (hour(timestamp) between 20 and 23) )\n",
    "),\n",
    "\n",
    "df2 as (\n",
    "select ifa, location, min(latitude) latitude, min(longitude) longitude, count(distinct date) ndays from df1\n",
    "group by ifa, location\n",
    "),\n",
    "\n",
    "df3 as(\n",
    "select *, ROW_NUMBER() OVER(PARTITION BY ifa ORDER BY ndays desc) rn from df2\n",
    "),\n",
    "\n",
    "df4 as(\n",
    "select * from df3\n",
    "where rn <=3\n",
    ")\n",
    "\n",
    "select a.*, b.name as hk_district, b.geometry hk_district_geometry from df4 a cross join m_hk_districts b\n",
    "where ST_Contains(ST_Polygon(b.geometry), a.location)\n",
    "\"\"\"\n",
    "# number of unique ifa: 6174205\n",
    "print(f\"there are {6174205/23223382 *100}% of ifa have home location\")\n"
   ]
  },
  {
   "cell_type": "code",
   "execution_count": null,
   "id": "0912c7b7",
   "metadata": {
    "ExecuteTime": {
     "end_time": "2022-03-10T16:17:05.358985Z",
     "start_time": "2022-03-10T16:17:05.331107Z"
    }
   },
   "outputs": [],
   "source": [
    "\"\"\"\n",
    "select hk_district, count(distinct ifa) nifa from m_hk_table2_weekday\n",
    "where rn = 1\n",
    "group by hk_district\n",
    "\"\"\"\n",
    "hk_district = pd.read_csv('./data/2_hk_district_council.csv',sep=\"|\")\n",
    "df1 = pd.read_csv('./data/2_nifa_weekday_home_in_hk_district_v2.csv')\n",
    "\n"
   ]
  },
  {
   "cell_type": "code",
   "execution_count": null,
   "id": "1431ceda",
   "metadata": {
    "ExecuteTime": {
     "end_time": "2022-03-07T09:51:46.100528Z",
     "start_time": "2022-03-07T09:51:46.018725Z"
    }
   },
   "outputs": [],
   "source": [
    "df_merge = pd.merge(df1,hk_district.loc[:,'Name':],how='left',left_on = 'hk_district',right_on='Name')\n",
    "\n",
    "fig = px.histogram(df_merge.sort_values('hk_district'), x=\"Name\", y=[\"nifa\",'PopulationCensus2016-06-30'],\n",
    "              barmode='group',\n",
    "             height=400)\n",
    "fig.show()"
   ]
  },
  {
   "cell_type": "markdown",
   "id": "bd06fe5c",
   "metadata": {},
   "source": [
    "# find the closet building for the home location"
   ]
  },
  {
   "cell_type": "code",
   "execution_count": null,
   "id": "750e6fd4",
   "metadata": {},
   "outputs": [],
   "source": [
    "# add district to buildings\n",
    "\"\"\"\n",
    "create table m_hk_district_building as\n",
    "select a.*, b.name district from m_hk_buildings_v2 a inner join m_hk_districts b\n",
    "on ST_Contains(ST_GeometryFromText(b.geometry), ST_Point(a.centroid_lon,a.centroid_lat))\n",
    "\"\"\"\n",
    "# there are 48600 buildings in m_hk_district_building\n",
    "# there are 48603 buildings in m_hk_buildings_polygon"
   ]
  },
  {
   "cell_type": "markdown",
   "id": "f52fb868",
   "metadata": {},
   "source": [
    "## find buildings for all home location (1,2,3)"
   ]
  },
  {
   "cell_type": "code",
   "execution_count": null,
   "id": "4b5e3421",
   "metadata": {
    "ExecuteTime": {
     "end_time": "2022-03-07T10:41:29.179787Z",
     "start_time": "2022-03-07T10:41:29.171697Z"
    }
   },
   "outputs": [],
   "source": [
    "# find buildings around\n",
    "\"\"\"\n",
    "create table m_hk_table2_weekday_v2 as\n",
    "with a as(\n",
    "select * from m_hk_table2_weekday\n",
    "where (hk_district = 'Central and Western') \n",
    "),\n",
    "\n",
    "b as(\n",
    "select * from m_hk_district_building\n",
    "where district = 'Central and Western'\n",
    ")\n",
    "\n",
    "select a.*, b.building_id, b.centroid_lat building_lat,b.centroid_lon building_lon, \n",
    "b.name building_name, b.tag building_tag,\n",
    "great_circle_distance(a.latitude, a.longitude, b.centroid_lat,b.centroid_lon) dist \n",
    "from a \n",
    "inner join \n",
    "b \n",
    "on great_circle_distance(a.latitude, a.longitude, b.centroid_lat,b.centroid_lon)<=0.3\n",
    "\"\"\"\n",
    "\n",
    "# ...\n",
    "\"\"\"\n",
    "insert into m_hk_table2_weekday_v2 \n",
    "with a as(\n",
    "select * from m_hk_table2_weekday\n",
    "where (hk_district = 'Southern') \n",
    "),\n",
    "\n",
    "b as(\n",
    "select * from m_hk_district_building\n",
    "where district = 'Southern'\n",
    ")\n",
    "\n",
    "select a.*, b.building_id, b.centroid_lat building_lat,b.centroid_lon building_lon, \n",
    "b.name building_name, b.tag building_tag,\n",
    "great_circle_distance(a.latitude, a.longitude, b.centroid_lat,b.centroid_lon) dist \n",
    "from a \n",
    "inner join \n",
    "b \n",
    "on great_circle_distance(a.latitude, a.longitude, b.centroid_lat,b.centroid_lon)<=0.3\n",
    "\"\"\"\n",
    "\n",
    "# number of unique ifa: 6099439\n",
    "6099439/23223382\n",
    "# there are some ifa don't have home building"
   ]
  },
  {
   "cell_type": "code",
   "execution_count": null,
   "id": "b5d219bb",
   "metadata": {},
   "outputs": [],
   "source": [
    "# select the closest building\n",
    "\"\"\"\n",
    "create table m_hk_table2_weekday_v2_2 as\n",
    "with df1 as(\n",
    "select *, ROW_NUMBER() OVER (PARTITION BY ifa, rn ORDER BY dist ASC) dist_rn from m_hk_table2_weekday_v2\n",
    ")\n",
    "select * from df1 where dist_rn = 1\n",
    "\"\"\"\n",
    "# number of unique ifa: 6099439\n"
   ]
  },
  {
   "cell_type": "code",
   "execution_count": null,
   "id": "aa98bec5",
   "metadata": {
    "ExecuteTime": {
     "end_time": "2022-03-07T14:53:03.523197Z",
     "start_time": "2022-03-07T14:53:03.507208Z"
    }
   },
   "outputs": [],
   "source": [
    "# check building types\n",
    "\"\"\"\n",
    "select distinct building_tag from m_hk_table2_weekday_v2_2 \n",
    "\"\"\"\n",
    "\n",
    "\n",
    "# find the residential building from the top 3 frequent location\n",
    "\"\"\"\n",
    "create table m_hk_table2_weekday_v2_3 as\n",
    "with df1 as(\n",
    "select * from m_hk_table2_weekday_v2_2\n",
    "where (building_tag = 'dormitory') or (building_tag = 'residential') or (building_tag = 'hotel') or \n",
    "(building_tag = 'apartments') or (building_tag = 'house') or (building_tag = 'houseboat') or  \n",
    "(building_tag = 'nursing_home')  or \n",
    "(building_tag = '觀瀾雅軒 Baycrest') or (building_tag = 'building') or (building_tag = 'building]') \n",
    "or (building_tag = 'stilt_house') or (building_tag = 'shed') or (building_tag = 'pavilion') or \n",
    "(building_tag = 'podium') or (building_tag = 'terrace') or (building_tag = 'TS') or \n",
    "(building_tag = 'detached') or (building_tag = 'bungalow') or (building_tag = 'hut')\n",
    "),\n",
    "df2 as(\n",
    "select *, ROW_NUMBER() OVER(PARTITION BY ifa ORDER BY rn ASC) home_rn from df1\n",
    ")\n",
    "\n",
    "\n",
    "select * from df2 where home_rn = 1\n",
    "\"\"\"\n",
    "# number of rows: 5439173\n",
    "# number of distinct ifa: 5439173\n",
    "5439173/23223382"
   ]
  },
  {
   "cell_type": "code",
   "execution_count": null,
   "id": "6a332587",
   "metadata": {
    "ExecuteTime": {
     "end_time": "2022-03-10T16:16:44.731286Z",
     "start_time": "2022-03-10T16:16:44.676406Z"
    }
   },
   "outputs": [],
   "source": [
    "# df with building_tag = building\n",
    "\"\"\"\n",
    "select hk_district, count(distinct ifa) from m_hk_table2_weekday_v2_3\n",
    "group by hk_district\n",
    "\"\"\"\n",
    "df = pd.read_csv('./data/2_nifa_weekday_home_in_hk_homebuilding_district.csv') # with building_tag = building\n",
    "\n",
    "# df2 without building_tag = building\n",
    "\"\"\"\n",
    "with df1 as(\n",
    "select * from m_hk_table2_weekday_v2_2\n",
    "where (building_tag = 'dormitory') or (building_tag = 'residential') or (building_tag = 'hotel') or (building_tag = 'apartments') or (building_tag = 'house') or (building_tag = 'houseboat') or  (building_tag = 'nursing_home')  or \n",
    "(building_tag = '觀瀾雅軒 Baycrest') \n",
    "or (building_tag = 'stilt_house') or (building_tag = 'shed') or (building_tag = 'pavilion') or \n",
    "(building_tag = 'podium') or (building_tag = 'terrace') or (building_tag = 'TS') or \n",
    "(building_tag = 'detached') or (building_tag = 'bungalow') or (building_tag = 'hut')\n",
    "),\n",
    "df2 as(\n",
    "select *, ROW_NUMBER() OVER(PARTITION BY ifa ORDER BY rn ASC) home_rn from df1\n",
    ")\n",
    "\n",
    "select hk_district, count(distinct ifa) from df2\n",
    "where home_rn = 1\n",
    "group by hk_district\n",
    "\"\"\"\n",
    "df2 = pd.read_csv('./data/2_nifa_weekday_home_in_hk_homebuilding_district_v2.csv') # without building_tag = building\n",
    "df.columns = ['hk_district','num_ifa']\n",
    "df2.columns = ['hk_district','num_ifa']\n",
    "df_merge = pd.merge(df,hk_district.loc[:,'Name':],how='left',left_on = 'hk_district',right_on='Name')\n",
    "df_merge2 = pd.merge(df_merge,df2,how='left',left_on = 'hk_district',right_on='hk_district',suffixes=('_v1', '_v2'))\n",
    "\n",
    "fig = px.histogram(df_merge2, x=\"Name\", y=['num_ifa_v2',\"num_ifa_v1\",'PopulationCensus2016-06-30'],\n",
    "              barmode='group',\n",
    "             height=400)\n",
    "fig.show()"
   ]
  },
  {
   "cell_type": "code",
   "execution_count": null,
   "id": "464f816d",
   "metadata": {
    "ExecuteTime": {
     "end_time": "2022-03-08T07:21:20.441086Z",
     "start_time": "2022-03-08T07:21:20.375606Z"
    },
    "scrolled": false
   },
   "outputs": [],
   "source": [
    "# with building_tag = building\n",
    "fig = px.histogram(df_merge2, x=\"Name\", y=[\"num_ifa_v1\",'PopulationCensus2016-06-30'],\n",
    "              barmode='group',\n",
    "             height=400)\n",
    "fig.show()"
   ]
  },
  {
   "cell_type": "code",
   "execution_count": null,
   "id": "2df84e7a",
   "metadata": {
    "ExecuteTime": {
     "end_time": "2022-03-07T14:50:23.332891Z",
     "start_time": "2022-03-07T14:50:23.271424Z"
    }
   },
   "outputs": [],
   "source": [
    "# without building_tag = building\n",
    "fig = px.histogram(df_merge2, x=\"Name\", y=['num_buildings_v2','PopulationCensus2016-06-30'],\n",
    "              barmode='group',\n",
    "             height=400)\n",
    "fig.show()"
   ]
  },
  {
   "cell_type": "markdown",
   "id": "7abb11d3",
   "metadata": {},
   "source": [
    "# Merge Home data with daily unique ifa Mobility data"
   ]
  },
  {
   "cell_type": "markdown",
   "id": "3a7fbf44",
   "metadata": {
    "ExecuteTime": {
     "end_time": "2022-03-10T16:48:18.781936Z",
     "start_time": "2022-03-10T16:48:18.775374Z"
    }
   },
   "source": [
    "## merge data"
   ]
  },
  {
   "cell_type": "code",
   "execution_count": null,
   "id": "67ec4f53",
   "metadata": {},
   "outputs": [],
   "source": [
    "\"\"\"\n",
    "create table m_hk_filter_w_home_v1 as \n",
    "with df1 as(\n",
    "select a.ifa, a.timestamp,a.latitude,a.longitude, b.name as hk_district \n",
    "from m_hk_filter_v2_b a cross join m_hk_districts b\n",
    "where ST_Contains(ST_Polygon(b.geometry), st_point(a.longitude,a.latitude))\n",
    ")\n",
    "\n",
    "select distinct ifa, date(timestamp) date, latitude, longitude, hk_district from df1\n",
    "\"\"\""
   ]
  },
  {
   "cell_type": "code",
   "execution_count": null,
   "id": "7b1e6433",
   "metadata": {},
   "outputs": [],
   "source": [
    "\"\"\"\n",
    "create table m_hk_filter_w_home_v2 as\n",
    "select b.*, a.latitude home_latitude, a.longitude home_longitude,a.hk_district home_district, \n",
    "a.building_id, a.building_lat, a.building_lon, a.building_tag \n",
    "from m_hk_table2_weekday_v2_3 a \n",
    "join m_hk_filter_w_home_v1 b \n",
    "on a.ifa = b.ifa\n",
    "\"\"\""
   ]
  },
  {
   "cell_type": "markdown",
   "id": "c3f808d9",
   "metadata": {},
   "source": [
    "## flowmap with unique ifa"
   ]
  },
  {
   "cell_type": "markdown",
   "id": "19c202fc",
   "metadata": {},
   "source": [
    "### district level "
   ]
  },
  {
   "cell_type": "code",
   "execution_count": null,
   "id": "08ee4a5f",
   "metadata": {},
   "outputs": [],
   "source": [
    "\"\"\"\n",
    "select date, home_district, hk_district, count(distinct ifa) from m_hk_filter_w_home_v2 \n",
    "group by date, home_district, hk_district\n",
    "\"\"\""
   ]
  },
  {
   "cell_type": "markdown",
   "id": "e6a3ba48",
   "metadata": {},
   "source": [
    "### specific building"
   ]
  },
  {
   "cell_type": "code",
   "execution_count": null,
   "id": "4a0738e5",
   "metadata": {
    "ExecuteTime": {
     "end_time": "2022-03-08T06:16:10.131708Z",
     "start_time": "2022-03-08T06:16:09.935789Z"
    }
   },
   "outputs": [],
   "source": [
    "# 嘉悅半島 The Sea Crest\n",
    "\"\"\"\n",
    "select date, building_id, building_lat, building_lon, round(latitude,3) latitude, round(longitude,3) longitude, count(distinct ifa) from m_hk_filter_w_home_v2 \n",
    "where building_id = 223136834\n",
    "group by date, building_id, building_lat, building_lon, round(latitude,3), round(longitude,3)\n",
    "\"\"\"\n",
    "df = pd.read_csv('data/2_m_hk_filtered_home_specificbuilding223136834_movement_v2.csv')"
   ]
  },
  {
   "cell_type": "code",
   "execution_count": null,
   "id": "71aff6fc",
   "metadata": {
    "ExecuteTime": {
     "end_time": "2022-03-08T06:17:45.561412Z",
     "start_time": "2022-03-08T06:17:45.179779Z"
    }
   },
   "outputs": [],
   "source": [
    "location = df.loc[:,'latitude':'longitude'].drop_duplicates().reset_index()\n",
    "df_merge = pd.merge(df,location,how='left',on=['latitude','longitude'])\n",
    "# df_merge = df_merge.loc[df_merge['_col6']>10]\n",
    "df_merge.loc[:,['building_id','index','_col6','date']].to_csv('./data/flowmap.csv')\n",
    "\n",
    "location2 = df.loc[:,'building_id':'building_lon'].drop_duplicates()\n",
    "location2.columns = location.columns\n",
    "location = pd.concat([location,location2])\n",
    "location = location.reset_index(drop=True)\n",
    "location.to_csv('./data/location.csv')"
   ]
  },
  {
   "cell_type": "markdown",
   "id": "75c0745c",
   "metadata": {},
   "source": [
    "##  movements of specific ifa"
   ]
  },
  {
   "cell_type": "markdown",
   "id": "da5f772d",
   "metadata": {},
   "source": [
    "### ifa=3b45468c-8516-47db-afb6-8f5b5a201e36"
   ]
  },
  {
   "cell_type": "code",
   "execution_count": null,
   "id": "d8efa6f8",
   "metadata": {
    "ExecuteTime": {
     "end_time": "2022-03-09T04:04:01.201886Z",
     "start_time": "2022-03-09T04:04:01.142256Z"
    }
   },
   "outputs": [],
   "source": [
    "\"\"\"\n",
    "select ifa, timestamp, latitude,longitude from m_hk_filter_v2_b \n",
    "where ifa = '3b45468c-8516-47db-afb6-8f5b5a201e36'\n",
    "\"\"\"\n",
    "ifa = pd.read_csv('./data/2_ifa=3b45468c-8516-47db-afb6-8f5b5a201e36.csv')\n",
    "tdf = skmob.TrajDataFrame(ifa[['ifa','timestamp','latitude','longitude']], latitude='latitude', longitude = 'longitude', datetime='timestamp', user_id='ifa')\n",
    "ifa.loc[pd.to_datetime(ifa['timestamp'])> datetime.datetime(2022,1,1)]"
   ]
  },
  {
   "cell_type": "code",
   "execution_count": null,
   "id": "6f57f919",
   "metadata": {
    "ExecuteTime": {
     "end_time": "2022-03-09T03:54:05.812201Z",
     "start_time": "2022-03-09T03:54:04.371747Z"
    },
    "scrolled": false
   },
   "outputs": [],
   "source": [
    "m = tdf.plot_trajectory( start_end_markers=False)\n",
    "tdf.plot_stops(max_users=1, map_f=m)\n"
   ]
  },
  {
   "cell_type": "markdown",
   "id": "78b1bec0",
   "metadata": {},
   "source": [
    "### ifa=adbf8587-4415-4d41-8bd3-5b8d69552917.csv"
   ]
  },
  {
   "cell_type": "code",
   "execution_count": null,
   "id": "03a3ac80",
   "metadata": {
    "ExecuteTime": {
     "end_time": "2022-03-09T04:08:12.929030Z",
     "start_time": "2022-03-09T04:08:12.847261Z"
    }
   },
   "outputs": [],
   "source": [
    "\"\"\"\n",
    "select ifa, timestamp, latitude,longitude from m_hk_filter_v2_b \n",
    "where ifa = 'adbf8587-4415-4d41-8bd3-5b8d69552917'\n",
    "\"\"\"\n",
    "ifa = pd.read_csv('./data/2_ifa=adbf8587-4415-4d41-8bd3-5b8d69552917.csv')\n",
    "tdf = skmob.TrajDataFrame(ifa[['ifa','timestamp','latitude','longitude']], latitude='latitude', longitude = 'longitude', datetime='timestamp', user_id='ifa')\n",
    "ifa.loc[pd.to_datetime(ifa['timestamp'])> datetime.datetime(2022,1,1)]"
   ]
  },
  {
   "cell_type": "code",
   "execution_count": null,
   "id": "8ea9e8c6",
   "metadata": {
    "ExecuteTime": {
     "end_time": "2022-03-09T04:08:42.682030Z",
     "start_time": "2022-03-09T04:08:33.788378Z"
    },
    "scrolled": false
   },
   "outputs": [],
   "source": [
    "m = tdf.plot_trajectory( start_end_markers=False)\n",
    "tdf.plot_stops(max_users=1, map_f=m)\n"
   ]
  },
  {
   "cell_type": "markdown",
   "id": "b5e07d6b",
   "metadata": {},
   "source": [
    "# Merge Home data with daily obervations"
   ]
  },
  {
   "cell_type": "code",
   "execution_count": null,
   "id": "dca8561e",
   "metadata": {},
   "outputs": [],
   "source": []
  }
 ],
 "metadata": {
  "kernelspec": {
   "display_name": "Python 3",
   "language": "python",
   "name": "python3"
  },
  "language_info": {
   "codemirror_mode": {
    "name": "ipython",
    "version": 3
   },
   "file_extension": ".py",
   "mimetype": "text/x-python",
   "name": "python",
   "nbconvert_exporter": "python",
   "pygments_lexer": "ipython3",
   "version": "3.8.8"
  },
  "toc": {
   "base_numbering": 1,
   "nav_menu": {},
   "number_sections": true,
   "sideBar": true,
   "skip_h1_title": false,
   "title_cell": "Table of Contents",
   "title_sidebar": "Contents",
   "toc_cell": false,
   "toc_position": {
    "height": "calc(100% - 180px)",
    "left": "10px",
    "top": "150px",
    "width": "304.188px"
   },
   "toc_section_display": true,
   "toc_window_display": true
  },
  "varInspector": {
   "cols": {
    "lenName": 16,
    "lenType": 16,
    "lenVar": 40
   },
   "kernels_config": {
    "python": {
     "delete_cmd_postfix": "",
     "delete_cmd_prefix": "del ",
     "library": "var_list.py",
     "varRefreshCmd": "print(var_dic_list())"
    },
    "r": {
     "delete_cmd_postfix": ") ",
     "delete_cmd_prefix": "rm(",
     "library": "var_list.r",
     "varRefreshCmd": "cat(var_dic_list()) "
    }
   },
   "types_to_exclude": [
    "module",
    "function",
    "builtin_function_or_method",
    "instance",
    "_Feature"
   ],
   "window_display": false
  }
 },
 "nbformat": 4,
 "nbformat_minor": 5
}
