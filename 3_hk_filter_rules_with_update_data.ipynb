{
 "cells": [
  {
   "cell_type": "markdown",
   "id": "e265d156",
   "metadata": {},
   "source": [
    "# Update data"
   ]
  },
  {
   "cell_type": "markdown",
   "id": "08696838",
   "metadata": {},
   "source": [
    "## need to keep"
   ]
  },
  {
   "cell_type": "code",
   "execution_count": null,
   "id": "ac6a4c54",
   "metadata": {},
   "outputs": [],
   "source": [
    "\"\"\"\n",
    "insert into m_hk_filter_v3\n",
    "with df0 as(\n",
    "select distinct ifa from (select distinct ifa from m_hk\n",
    "intersect\n",
    "select distinct ifa from m_hk_filter_v3)\n",
    "),\n",
    "df1 as(\n",
    "select ifa, timestamp, latitude, longitude, connection_type, ip_address \n",
    "from m_hk \n",
    "where date(timestamp) >= DATE('2022-03-06')\n",
    ")\n",
    "select b.*\n",
    "from df0 a join df1 b \n",
    "on a.ifa = b.ifa\n",
    "\"\"\""
   ]
  },
  {
   "cell_type": "markdown",
   "id": "3b0ff801",
   "metadata": {},
   "source": [
    "## need to filter"
   ]
  },
  {
   "cell_type": "code",
   "execution_count": null,
   "id": "d047fa8a",
   "metadata": {},
   "outputs": [],
   "source": [
    "\"\"\"\n",
    "create table m_hk_update_ifa_filter as\n",
    "with df1 as(\n",
    "select distinct ifa from m_hk\n",
    "except\n",
    "select distinct ifa from m_hk_filter_v3\n",
    ")\n",
    "select distinct ifa from df1\n",
    "\"\"\""
   ]
  },
  {
   "cell_type": "code",
   "execution_count": null,
   "id": "1b50a49a",
   "metadata": {},
   "outputs": [],
   "source": [
    "\"\"\"\n",
    "create table m_hk_update_filter_v1 as\n",
    "with df as(\n",
    "select ifa, timestamp, latitude, longitude, connection_type, ip_address \n",
    "from m_hk \n",
    "where date(timestamp) >= DATE('2021-09-01')\n",
    "),\n",
    "df1 as(\n",
    "select b.*\n",
    "from m_hk_update_ifa_filter a join df b \n",
    "on a.ifa = b.ifa\n",
    "),\n",
    "\n",
    "df2 as(\n",
    "select ifa, count(*) num_obs from df1\n",
    "group by ifa\n",
    "),\n",
    "\n",
    "df3 as(\n",
    "select * from df2\n",
    "where num_obs >= 15\n",
    "),\n",
    "\n",
    "df4 as(\n",
    "select b.* from df3 a join df1 b on a.ifa = b.ifa\n",
    "),\n",
    "\n",
    "df5 as (\n",
    "select ifa, count(distinct date(timestamp)) nday from df4\n",
    "group by ifa),\n",
    "\n",
    "df6 as(\n",
    "select * from df5\n",
    "where nday>3\n",
    ")\n",
    "\n",
    "select b.* from df6 a join df4 b on a.ifa = b.ifa\n",
    "\n",
    "\"\"\""
   ]
  },
  {
   "cell_type": "code",
   "execution_count": null,
   "id": "4f9bd90f",
   "metadata": {},
   "outputs": [],
   "source": [
    "\"\"\"\n",
    "create table m_hk_update_filter_v2 as\n",
    "with df1 as (\n",
    "select ifa, count(distinct connection_type) as nct, count(distinct ip_address) as nip from m_hk_update_filter_v1\n",
    "group by ifa\n",
    "),\n",
    "df2 as(\n",
    "select * from df1 where nct > 1 and nip > 1\n",
    "),\n",
    "df3 as(\n",
    "select b.* from df2 a join m_hk_update_filter_v1 b on a.ifa = b.ifa\n",
    "),\n",
    "--\n",
    "df4 as(\n",
    "select *, date(timestamp) day, ST_AsText(st_point(round(longitude,4),round(latitude,4))) point from df3\n",
    "),\n",
    "df5 as(\n",
    "select ifa, count(distinct day) nday, count(distinct point) npoint from df4\n",
    "group by ifa\n",
    "),\n",
    "df6 as(\n",
    "select * from df5\n",
    "where nday>15 and npoint<=1\n",
    "),\n",
    "df7 as(\n",
    "select distinct ifa from df3  \n",
    "except\n",
    "select ifa from df6\n",
    ")\n",
    "select b.* from df7 a join df3 b on a.ifa = b.ifa\n",
    "\n",
    "\"\"\""
   ]
  },
  {
   "cell_type": "code",
   "execution_count": null,
   "id": "af687db1",
   "metadata": {},
   "outputs": [],
   "source": [
    "\"\"\"\n",
    "insert into m_hk_filter_v3\n",
    "select * from m_hk_update_filter_v2\n",
    "\"\"\""
   ]
  },
  {
   "cell_type": "code",
   "execution_count": null,
   "id": "ceae20d7",
   "metadata": {},
   "outputs": [],
   "source": []
  },
  {
   "cell_type": "markdown",
   "id": "9fdf0dc3",
   "metadata": {},
   "source": [
    "# home location"
   ]
  },
  {
   "cell_type": "code",
   "execution_count": null,
   "id": "589e3bcd",
   "metadata": {},
   "outputs": [],
   "source": [
    "# find home location\n",
    "\"\"\"\n",
    "create table m_hk_table2_weekday_v4 as\n",
    "with df as(\n",
    "select * from m_hk_filter_v3\n",
    "where (day_of_week(timestamp) between 1 and 5) and (length(cast(latitude as varchar)) > 5) and (length(cast(longitude as varchar)) > 6)\n",
    "),\n",
    "\n",
    "df1 as (\n",
    "SELECT *, ST_AsText(st_point(round(longitude,4),round(latitude,4))) location, date(distinct timestamp) date\n",
    "FROM (select * from df where (hour(timestamp) between 0 and 8) or (hour(timestamp) between 20 and 23) )\n",
    "),\n",
    "\n",
    "df2 as (\n",
    "select ifa, location, min(latitude) latitude, min(longitude) longitude, count(distinct date) ndays from df1\n",
    "group by ifa, location\n",
    "),\n",
    "\n",
    "df3 as(\n",
    "select *, ROW_NUMBER() OVER(PARTITION BY ifa ORDER BY ndays desc) rn from df2\n",
    "),\n",
    "\n",
    "df4 as(\n",
    "select * from df3\n",
    "where rn <=3\n",
    ")\n",
    "\n",
    "select a.*, b.name as hk_district, b.geometry hk_district_geometry from df4 a cross join m_hk_districts b\n",
    "where ST_Contains(ST_Polygon(b.geometry), a.location)\n",
    "\"\"\""
   ]
  },
  {
   "cell_type": "code",
   "execution_count": null,
   "id": "04bc8604",
   "metadata": {},
   "outputs": [],
   "source": [
    "# find buildings around home location\n",
    "\"\"\"\n",
    "create table m_hk_table2_weekday_v4_1 as\n",
    "with a as(\n",
    "select * from m_hk_table2_weekday_v4\n",
    "where (hk_district = 'Central and Western') \n",
    "),\n",
    "\n",
    "b as(\n",
    "select * from m_hk_district_building\n",
    "where district = 'Central and Western'\n",
    ")\n",
    "\n",
    "select a.*, b.building_id, b.centroid_lat building_lat,b.centroid_lon building_lon, \n",
    "b.name building_name, b.tag building_tag,\n",
    "great_circle_distance(a.latitude, a.longitude, b.centroid_lat,b.centroid_lon) dist \n",
    "from a \n",
    "inner join \n",
    "b \n",
    "on great_circle_distance(a.latitude, a.longitude, b.centroid_lat,b.centroid_lon)<=0.3\n",
    "\"\"\""
   ]
  },
  {
   "cell_type": "code",
   "execution_count": null,
   "id": "e7d36ce6",
   "metadata": {},
   "outputs": [],
   "source": [
    "# find closest buildings for home location\n",
    "\"\"\"\n",
    "create table m_hk_table2_weekday_v4_2 as\n",
    "with df1 as(\n",
    "select *, ROW_NUMBER() OVER (PARTITION BY ifa, rn ORDER BY dist ASC) dist_rn from m_hk_table2_weekday_v3_1\n",
    "),\n",
    "df2 as(\n",
    "select * from df1 where dist_rn = 1\n",
    "),\n",
    "\n",
    "df3 as(\n",
    "select * from df2\n",
    "where (building_tag = 'dormitory') or (building_tag = 'residential') or (building_tag = 'hotel') or \n",
    "(building_tag = 'apartments') or (building_tag = 'house') or (building_tag = 'houseboat') or  \n",
    "(building_tag = 'nursing_home')  or \n",
    "(building_tag = '觀瀾雅軒 Baycrest') or (building_tag = 'building') or (building_tag = 'building]') \n",
    "or (building_tag = 'stilt_house') or (building_tag = 'shed') or (building_tag = 'pavilion') or \n",
    "(building_tag = 'podium') or (building_tag = 'terrace') or (building_tag = 'TS') or \n",
    "(building_tag = 'detached') or (building_tag = 'bungalow') or (building_tag = 'hut')\n",
    "),\n",
    "df4 as(\n",
    "select *, ROW_NUMBER() OVER(PARTITION BY ifa ORDER BY rn ASC) home_rn from df3\n",
    ")\n",
    "\n",
    "select * from df4 where home_rn = 1\n",
    "\n",
    "\"\"\""
   ]
  },
  {
   "cell_type": "markdown",
   "id": "c449034e",
   "metadata": {},
   "source": [
    "# mobility data merge with home building"
   ]
  },
  {
   "cell_type": "code",
   "execution_count": null,
   "id": "aaa64660",
   "metadata": {},
   "outputs": [],
   "source": [
    "\n",
    "\"\"\"\n",
    "create table m_hk_filter_w_home_v4_4 as \n",
    "with df1 as(\n",
    "select a.ifa, a.timestamp,a.latitude, a.longitude, b.name as hk_district \n",
    "from m_hk_filter_v3 a cross join m_hk_districts b\n",
    "where ST_Contains(ST_Polygon(b.geometry), st_point(a.longitude,a.latitude))\n",
    "),\n",
    "df2 as(\n",
    "select *, \n",
    "LAG(latitude) OVER (PARTITION BY ifa, date(timestamp) ORDER BY timestamp) as previous_latitude,\n",
    "LAG(longitude) OVER (PARTITION BY ifa, date(timestamp) ORDER BY timestamp) as previous_longitude,\n",
    "LAG(timestamp) OVER (PARTITION BY ifa, date(timestamp) ORDER BY timestamp) as previous_timestamp\n",
    "from df1),\n",
    "df3 as(\n",
    "select * from df2\n",
    "where great_circle_distance(previous_latitude,previous_longitude,latitude,longitude) >= 0.1\n",
    ")\n",
    "select b.*, a.latitude home_latitude, a.longitude home_longitude,a.hk_district home_district, \n",
    "a.building_id, a.building_lat, a.building_lon, a.building_tag \n",
    "from m_hk_table2_weekday_v4_2 a \n",
    "left join df3 b \n",
    "on a.ifa = b.ifa\n",
    "\"\"\""
   ]
  },
  {
   "cell_type": "markdown",
   "id": "0f56fd23",
   "metadata": {
    "ExecuteTime": {
     "end_time": "2022-03-25T08:59:39.558108Z",
     "start_time": "2022-03-25T08:59:39.550520Z"
    }
   },
   "source": [
    "# building level flowmap"
   ]
  },
  {
   "cell_type": "code",
   "execution_count": null,
   "id": "2a8be8af",
   "metadata": {},
   "outputs": [],
   "source": []
  },
  {
   "cell_type": "code",
   "execution_count": null,
   "id": "ee07dbd8",
   "metadata": {},
   "outputs": [],
   "source": []
  },
  {
   "cell_type": "markdown",
   "id": "a4c4cc7d",
   "metadata": {},
   "source": [
    "# stay at home"
   ]
  },
  {
   "cell_type": "code",
   "execution_count": null,
   "id": "33143eeb",
   "metadata": {},
   "outputs": [],
   "source": [
    "\"\"\"\n",
    "create table m_hk_Shun_Tin_stayhomehour as\n",
    "with df1 as(\n",
    "select * from m_hk_filter_w_home_v4_4 \n",
    "where st_contains('POLYGON ((114.2241789 22.3268612, 114.2242047 22.3264248, 114.22467 22.3259585, 114.2250837 22.3254682, 114.2254197 22.3252769, 114.2258463 22.3252112, 114.226066 22.3250139, 114.22615 22.3247807, 114.2263892 22.3245655, 114.2263569 22.3244639, 114.2265443 22.3243144, 114.2268933 22.3242785, 114.227113 22.3242965, 114.2272487 22.3241769, 114.2276088 22.3241892, 114.2279026 22.324436, 114.227847 22.3246294, 114.2281568 22.3249331, 114.2281197 22.3249649, 114.228305 22.325129, 114.2284347 22.3251657, 114.2288965 22.3251477, 114.2289218 22.3254228, 114.2287947 22.3255526, 114.2286783 22.3255698, 114.22853 22.3257608, 114.2274473 22.3262138, 114.2271058 22.3260693, 114.2267379 22.3261575, 114.2265367 22.3266227, 114.2252359 22.3271685, 114.2248663 22.3272995, 114.2247397 22.3273452, 114.2245602 22.3273593, 114.2244142 22.327296, 114.2242693 22.3271661, 114.2241789 22.3268612))', st_point(building_lon,building_lat))\n",
    "),\n",
    "\n",
    "df2 as(\n",
    "select *, st_contains('POLYGON ((114.2241789 22.3268612, 114.2242047 22.3264248, 114.22467 22.3259585, 114.2250837 22.3254682, 114.2254197 22.3252769, 114.2258463 22.3252112, 114.226066 22.3250139, 114.22615 22.3247807, 114.2263892 22.3245655, 114.2263569 22.3244639, 114.2265443 22.3243144, 114.2268933 22.3242785, 114.227113 22.3242965, 114.2272487 22.3241769, 114.2276088 22.3241892, 114.2279026 22.324436, 114.227847 22.3246294, 114.2281568 22.3249331, 114.2281197 22.3249649, 114.228305 22.325129, 114.2284347 22.3251657, 114.2288965 22.3251477, 114.2289218 22.3254228, 114.2287947 22.3255526, 114.2286783 22.3255698, 114.22853 22.3257608, 114.2274473 22.3262138, 114.2271058 22.3260693, 114.2267379 22.3261575, 114.2265367 22.3266227, 114.2252359 22.3271685, 114.2248663 22.3272995, 114.2247397 22.3273452, 114.2245602 22.3273593, 114.2244142 22.327296, 114.2242693 22.3271661, 114.2241789 22.3268612))', st_point(longitude,latitude)) as at_home, st_contains('POLYGON ((114.2241789 22.3268612, 114.2242047 22.3264248, 114.22467 22.3259585, 114.2250837 22.3254682, 114.2254197 22.3252769, 114.2258463 22.3252112, 114.226066 22.3250139, 114.22615 22.3247807, 114.2263892 22.3245655, 114.2263569 22.3244639, 114.2265443 22.3243144, 114.2268933 22.3242785, 114.227113 22.3242965, 114.2272487 22.3241769, 114.2276088 22.3241892, 114.2279026 22.324436, 114.227847 22.3246294, 114.2281568 22.3249331, 114.2281197 22.3249649, 114.228305 22.325129, 114.2284347 22.3251657, 114.2288965 22.3251477, 114.2289218 22.3254228, 114.2287947 22.3255526, 114.2286783 22.3255698, 114.22853 22.3257608, 114.2274473 22.3262138, 114.2271058 22.3260693, 114.2267379 22.3261575, 114.2265367 22.3266227, 114.2252359 22.3271685, 114.2248663 22.3272995, 114.2247397 22.3273452, 114.2245602 22.3273593, 114.2244142 22.327296, 114.2242693 22.3271661, 114.2241789 22.3268612))', st_point(previous_longitude,previous_latitude)) as previous_at_home from df1\n",
    ")\n",
    "\n",
    "select ifa, date(timestamp) date,building_id, building_lat, building_lon, 24-sum(date_diff('second',previous_timestamp, timestamp))/60.0/60.0 as time_st_home from df2 \n",
    "where (at_home = false) and (previous_at_home = false)\n",
    "group by ifa, date(timestamp),building_id, building_lat, building_lon\n",
    "\"\"\""
   ]
  },
  {
   "cell_type": "code",
   "execution_count": null,
   "id": "7b6d5091",
   "metadata": {},
   "outputs": [],
   "source": [
    "\"\"\"\n",
    "create table m_hk_Lei_Tung_stayhomehour as\n",
    "with df1 as(\n",
    "select * from m_hk_filter_w_home_v4_4 \n",
    "where st_contains('POLYGON ((114.1527177 22.2412778, 114.1528305 22.2410098, 114.1528846 22.2408858, 114.152911 22.2408235, 114.1528952 22.2407196, 114.1529253 22.2407047, 114.1529274 22.2405607, 114.152957 22.2404508, 114.1530377 22.2403993, 114.153104 22.2402951, 114.1531983 22.2402627, 114.1533806 22.2402776, 114.1535205 22.2403218, 114.1535659 22.2402723, 114.1535689 22.2402354, 114.153625 22.2400912, 114.1537992 22.2402002, 114.1539123 22.2402002, 114.1539513 22.2402157, 114.1539652 22.2402752, 114.1542705 22.2402801, 114.15451 22.2403593, 114.1547164 22.240424, 114.1547781 22.240441, 114.154928 22.2404611, 114.155347 22.2403513, 114.1561446 22.2405157, 114.1563529 22.2405607, 114.1564624 22.2404514, 114.1565366 22.240298, 114.1567883 22.2401582, 114.1571085 22.2401408, 114.1571764 22.2402302, 114.1572489 22.2402325, 114.1573204 22.2403891, 114.1574336 22.240394, 114.1574553 22.2403344, 114.1574929 22.2403073, 114.1575805 22.2403095, 114.1576483 22.2402225, 114.1577556 22.2401779, 114.1578941 22.2401807, 114.1580075 22.2402524, 114.1580933 22.240337, 114.1581095 22.2403148, 114.1582915 22.2404461, 114.1585062 22.2406591, 114.1585013 22.2407172, 114.1584557 22.2406863, 114.1583916 22.240741, 114.1584657 22.240819, 114.1585304 22.2410422, 114.1585195 22.2411738, 114.1586936 22.2414216, 114.1587016 22.2415238, 114.1586693 22.2416726, 114.1586033 22.241873, 114.1586319 22.2420476, 114.1587398 22.2423829, 114.1586774 22.2424264, 114.158555 22.242589, 114.1586645 22.2427551, 114.1586886 22.2428123, 114.1586784 22.2428695, 114.1584448 22.2430329, 114.1581759 22.2432065, 114.1579993 22.2432516, 114.1579566 22.2432443, 114.1579696 22.2425486, 114.157991 22.2423925, 114.1580126 22.2423251, 114.157924 22.2423258, 114.1578495 22.2423283, 114.15764 22.2423327, 114.157578 22.2423521, 114.1573852 22.2420577, 114.1570392 22.2420647, 114.1568243 22.2423997, 114.1563073 22.2423947, 114.1560595 22.2426857, 114.1559523 22.2426859, 114.155535 22.2427098, 114.1556008 22.2426659, 114.155526 22.2425766, 114.1554189 22.2425119, 114.1552312 22.2424569, 114.1549312 22.2424004, 114.1548455 22.242412, 114.1545312 22.2422512, 114.1545154 22.2422305, 114.1545154 22.2421421, 114.1544935 22.2421244, 114.1545156 22.2420742, 114.1544427 22.2420395, 114.1543949 22.2420001, 114.1543273 22.2419285, 114.1541934 22.2419958, 114.1541639 22.2419658, 114.1540114 22.2419579, 114.1537643 22.2420249, 114.1535924 22.2419753, 114.1536875 22.2418738, 114.1536735 22.2418189, 114.1534877 22.2416009, 114.1534398 22.2416679, 114.1533644 22.2417148, 114.1533238 22.2417147, 114.1532066 22.2417669, 114.1531586 22.2417247, 114.1530474 22.2416993, 114.1529921 22.2416527, 114.1529224 22.2416353, 114.1527993 22.2415111, 114.1527204 22.2414045, 114.1527177 22.2412778))', st_point(building_lon,building_lat))\n",
    "),\n",
    "\n",
    "df2 as(\n",
    "select *, st_contains('POLYGON ((114.1527177 22.2412778, 114.1528305 22.2410098, 114.1528846 22.2408858, 114.152911 22.2408235, 114.1528952 22.2407196, 114.1529253 22.2407047, 114.1529274 22.2405607, 114.152957 22.2404508, 114.1530377 22.2403993, 114.153104 22.2402951, 114.1531983 22.2402627, 114.1533806 22.2402776, 114.1535205 22.2403218, 114.1535659 22.2402723, 114.1535689 22.2402354, 114.153625 22.2400912, 114.1537992 22.2402002, 114.1539123 22.2402002, 114.1539513 22.2402157, 114.1539652 22.2402752, 114.1542705 22.2402801, 114.15451 22.2403593, 114.1547164 22.240424, 114.1547781 22.240441, 114.154928 22.2404611, 114.155347 22.2403513, 114.1561446 22.2405157, 114.1563529 22.2405607, 114.1564624 22.2404514, 114.1565366 22.240298, 114.1567883 22.2401582, 114.1571085 22.2401408, 114.1571764 22.2402302, 114.1572489 22.2402325, 114.1573204 22.2403891, 114.1574336 22.240394, 114.1574553 22.2403344, 114.1574929 22.2403073, 114.1575805 22.2403095, 114.1576483 22.2402225, 114.1577556 22.2401779, 114.1578941 22.2401807, 114.1580075 22.2402524, 114.1580933 22.240337, 114.1581095 22.2403148, 114.1582915 22.2404461, 114.1585062 22.2406591, 114.1585013 22.2407172, 114.1584557 22.2406863, 114.1583916 22.240741, 114.1584657 22.240819, 114.1585304 22.2410422, 114.1585195 22.2411738, 114.1586936 22.2414216, 114.1587016 22.2415238, 114.1586693 22.2416726, 114.1586033 22.241873, 114.1586319 22.2420476, 114.1587398 22.2423829, 114.1586774 22.2424264, 114.158555 22.242589, 114.1586645 22.2427551, 114.1586886 22.2428123, 114.1586784 22.2428695, 114.1584448 22.2430329, 114.1581759 22.2432065, 114.1579993 22.2432516, 114.1579566 22.2432443, 114.1579696 22.2425486, 114.157991 22.2423925, 114.1580126 22.2423251, 114.157924 22.2423258, 114.1578495 22.2423283, 114.15764 22.2423327, 114.157578 22.2423521, 114.1573852 22.2420577, 114.1570392 22.2420647, 114.1568243 22.2423997, 114.1563073 22.2423947, 114.1560595 22.2426857, 114.1559523 22.2426859, 114.155535 22.2427098, 114.1556008 22.2426659, 114.155526 22.2425766, 114.1554189 22.2425119, 114.1552312 22.2424569, 114.1549312 22.2424004, 114.1548455 22.242412, 114.1545312 22.2422512, 114.1545154 22.2422305, 114.1545154 22.2421421, 114.1544935 22.2421244, 114.1545156 22.2420742, 114.1544427 22.2420395, 114.1543949 22.2420001, 114.1543273 22.2419285, 114.1541934 22.2419958, 114.1541639 22.2419658, 114.1540114 22.2419579, 114.1537643 22.2420249, 114.1535924 22.2419753, 114.1536875 22.2418738, 114.1536735 22.2418189, 114.1534877 22.2416009, 114.1534398 22.2416679, 114.1533644 22.2417148, 114.1533238 22.2417147, 114.1532066 22.2417669, 114.1531586 22.2417247, 114.1530474 22.2416993, 114.1529921 22.2416527, 114.1529224 22.2416353, 114.1527993 22.2415111, 114.1527204 22.2414045, 114.1527177 22.2412778))', st_point(longitude,latitude)) as at_home, st_contains('POLYGON ((114.1527177 22.2412778, 114.1528305 22.2410098, 114.1528846 22.2408858, 114.152911 22.2408235, 114.1528952 22.2407196, 114.1529253 22.2407047, 114.1529274 22.2405607, 114.152957 22.2404508, 114.1530377 22.2403993, 114.153104 22.2402951, 114.1531983 22.2402627, 114.1533806 22.2402776, 114.1535205 22.2403218, 114.1535659 22.2402723, 114.1535689 22.2402354, 114.153625 22.2400912, 114.1537992 22.2402002, 114.1539123 22.2402002, 114.1539513 22.2402157, 114.1539652 22.2402752, 114.1542705 22.2402801, 114.15451 22.2403593, 114.1547164 22.240424, 114.1547781 22.240441, 114.154928 22.2404611, 114.155347 22.2403513, 114.1561446 22.2405157, 114.1563529 22.2405607, 114.1564624 22.2404514, 114.1565366 22.240298, 114.1567883 22.2401582, 114.1571085 22.2401408, 114.1571764 22.2402302, 114.1572489 22.2402325, 114.1573204 22.2403891, 114.1574336 22.240394, 114.1574553 22.2403344, 114.1574929 22.2403073, 114.1575805 22.2403095, 114.1576483 22.2402225, 114.1577556 22.2401779, 114.1578941 22.2401807, 114.1580075 22.2402524, 114.1580933 22.240337, 114.1581095 22.2403148, 114.1582915 22.2404461, 114.1585062 22.2406591, 114.1585013 22.2407172, 114.1584557 22.2406863, 114.1583916 22.240741, 114.1584657 22.240819, 114.1585304 22.2410422, 114.1585195 22.2411738, 114.1586936 22.2414216, 114.1587016 22.2415238, 114.1586693 22.2416726, 114.1586033 22.241873, 114.1586319 22.2420476, 114.1587398 22.2423829, 114.1586774 22.2424264, 114.158555 22.242589, 114.1586645 22.2427551, 114.1586886 22.2428123, 114.1586784 22.2428695, 114.1584448 22.2430329, 114.1581759 22.2432065, 114.1579993 22.2432516, 114.1579566 22.2432443, 114.1579696 22.2425486, 114.157991 22.2423925, 114.1580126 22.2423251, 114.157924 22.2423258, 114.1578495 22.2423283, 114.15764 22.2423327, 114.157578 22.2423521, 114.1573852 22.2420577, 114.1570392 22.2420647, 114.1568243 22.2423997, 114.1563073 22.2423947, 114.1560595 22.2426857, 114.1559523 22.2426859, 114.155535 22.2427098, 114.1556008 22.2426659, 114.155526 22.2425766, 114.1554189 22.2425119, 114.1552312 22.2424569, 114.1549312 22.2424004, 114.1548455 22.242412, 114.1545312 22.2422512, 114.1545154 22.2422305, 114.1545154 22.2421421, 114.1544935 22.2421244, 114.1545156 22.2420742, 114.1544427 22.2420395, 114.1543949 22.2420001, 114.1543273 22.2419285, 114.1541934 22.2419958, 114.1541639 22.2419658, 114.1540114 22.2419579, 114.1537643 22.2420249, 114.1535924 22.2419753, 114.1536875 22.2418738, 114.1536735 22.2418189, 114.1534877 22.2416009, 114.1534398 22.2416679, 114.1533644 22.2417148, 114.1533238 22.2417147, 114.1532066 22.2417669, 114.1531586 22.2417247, 114.1530474 22.2416993, 114.1529921 22.2416527, 114.1529224 22.2416353, 114.1527993 22.2415111, 114.1527204 22.2414045, 114.1527177 22.2412778))', st_point(previous_longitude,previous_latitude)) as previous_at_home from df1\n",
    ")\n",
    "\n",
    "select ifa, date(timestamp) date,building_id, building_lat, building_lon, 24-sum(date_diff('second',previous_timestamp, timestamp))/60.0/60.0 as time_st_home from df2 \n",
    "where (at_home = false) and (previous_at_home = false)\n",
    "group by ifa, date(timestamp),building_id, building_lat, building_lon\n",
    "\"\"\""
   ]
  }
 ],
 "metadata": {
  "kernelspec": {
   "display_name": "Python 3",
   "language": "python",
   "name": "python3"
  },
  "language_info": {
   "codemirror_mode": {
    "name": "ipython",
    "version": 3
   },
   "file_extension": ".py",
   "mimetype": "text/x-python",
   "name": "python",
   "nbconvert_exporter": "python",
   "pygments_lexer": "ipython3",
   "version": "3.8.8"
  },
  "toc": {
   "base_numbering": 1,
   "nav_menu": {},
   "number_sections": true,
   "sideBar": true,
   "skip_h1_title": false,
   "title_cell": "Table of Contents",
   "title_sidebar": "Contents",
   "toc_cell": false,
   "toc_position": {},
   "toc_section_display": true,
   "toc_window_display": true
  },
  "varInspector": {
   "cols": {
    "lenName": 16,
    "lenType": 16,
    "lenVar": 40
   },
   "kernels_config": {
    "python": {
     "delete_cmd_postfix": "",
     "delete_cmd_prefix": "del ",
     "library": "var_list.py",
     "varRefreshCmd": "print(var_dic_list())"
    },
    "r": {
     "delete_cmd_postfix": ") ",
     "delete_cmd_prefix": "rm(",
     "library": "var_list.r",
     "varRefreshCmd": "cat(var_dic_list()) "
    }
   },
   "types_to_exclude": [
    "module",
    "function",
    "builtin_function_or_method",
    "instance",
    "_Feature"
   ],
   "window_display": false
  }
 },
 "nbformat": 4,
 "nbformat_minor": 5
}
